{
 "cells": [
  {
   "cell_type": "code",
   "execution_count": null,
   "id": "061edb37-ef88-4404-a3b7-f673d148005a",
   "metadata": {},
   "outputs": [],
   "source": [
    "import torch"
   ]
  },
  {
   "cell_type": "markdown",
   "id": "abd398a1-1f06-499d-8b83-c17fbc9960f5",
   "metadata": {},
   "source": [
    "两个矩阵的按元素乘法称为Hadamard积（Hadamard product）"
   ]
  },
  {
   "cell_type": "code",
   "execution_count": null,
   "id": "8957035e-9df8-45c7-a97d-8b3c38129611",
   "metadata": {},
   "outputs": [],
   "source": [
    "A = torch.arange(20, dtype=torch.float32).reshape(5, 4)\n",
    "B = A.clone()  # 通过分配新内存，将A的一个副本分配给B\n",
    "A, A + B, A * B"
   ]
  },
  {
   "cell_type": "code",
   "execution_count": null,
   "id": "b8489cfa-8fcf-41e0-9be5-4aac35df5a31",
   "metadata": {},
   "outputs": [],
   "source": [
    "x = torch.arange(4, dtype=torch.float32)\n",
    "x, x.sum()"
   ]
  },
  {
   "cell_type": "code",
   "execution_count": null,
   "id": "c711b1cd-77e1-4e48-bfa2-7eb35126a5a3",
   "metadata": {},
   "outputs": [],
   "source": [
    "A_sum_axis0 = A.sum(axis=0)\n",
    "A_sum_axis0, A_sum_axis0.shape"
   ]
  },
  {
   "cell_type": "code",
   "execution_count": null,
   "id": "73d579a6-3162-44b4-adc0-3cac54e327af",
   "metadata": {},
   "outputs": [],
   "source": [
    "A_sum_axis1 = A.sum(axis=1)\n",
    "A_sum_axis1, A_sum_axis1.shape"
   ]
  },
  {
   "cell_type": "code",
   "execution_count": null,
   "id": "7083fe43-240f-435b-ab5d-18dd201394ac",
   "metadata": {},
   "outputs": [],
   "source": [
    "sum_A = A.sum(axis=1, keepdims=True)\n",
    "sum_A"
   ]
  },
  {
   "cell_type": "code",
   "execution_count": null,
   "id": "0ffd663b-2a08-4223-b137-96458e1bfa5b",
   "metadata": {},
   "outputs": [],
   "source": [
    "A.cumsum(axis=0)"
   ]
  },
  {
   "cell_type": "code",
   "execution_count": null,
   "id": "739fad35-cbf1-4f39-a6c1-627a35852cac",
   "metadata": {},
   "outputs": [],
   "source": [
    "y = torch.ones(4, dtype = torch.float32)\n",
    "x, y, torch.dot(x, y)"
   ]
  },
  {
   "cell_type": "code",
   "execution_count": null,
   "id": "ebc088d4-3416-44d3-a326-dbbc4dd05fea",
   "metadata": {},
   "outputs": [],
   "source": [
    "torch.sum(x * y)"
   ]
  },
  {
   "cell_type": "code",
   "execution_count": null,
   "id": "13b95633-0a0f-493a-8c53-046aa1fead03",
   "metadata": {},
   "outputs": [],
   "source": [
    "A.shape, x.shape, torch.mv(A, x)"
   ]
  },
  {
   "cell_type": "markdown",
   "id": "a06954bd-83e2-4a66-9d44-23a8564b0cc1",
   "metadata": {},
   "source": [
    "矩阵-矩阵乘法可以简单地称为矩阵乘法，不应与“Hadamard积”混淆。"
   ]
  },
  {
   "cell_type": "code",
   "execution_count": null,
   "id": "26c089bd-a042-4a44-b62d-b88834d620a6",
   "metadata": {},
   "outputs": [],
   "source": [
    "B = torch.ones(4, 3)\n",
    "torch.mm(A, B), A, B"
   ]
  },
  {
   "cell_type": "markdown",
   "id": "2ee55fb2-ea96-40b3-b5da-2365f5878a43",
   "metadata": {},
   "source": [
    "非正式地说，向量的范数是表示一个向量有多大。"
   ]
  },
  {
   "cell_type": "code",
   "execution_count": null,
   "id": "44548875-9085-41ff-bb25-7be14c01efb6",
   "metadata": {},
   "outputs": [],
   "source": [
    "u = torch.tensor([3.0, -4.0])\n",
    "torch.norm(u)"
   ]
  },
  {
   "cell_type": "code",
   "execution_count": null,
   "id": "3660e08f-f9cf-4143-8577-6a903f5fe624",
   "metadata": {},
   "outputs": [],
   "source": [
    "Frobenius范数满足向量范数的所有性质，它就像是矩阵形向量的\n",
    "范数。"
   ]
  },
  {
   "cell_type": "code",
   "execution_count": null,
   "id": "24535caf-38c1-4aee-8b0d-fd003b09cdfd",
   "metadata": {},
   "outputs": [],
   "source": [
    "torch.norm(torch.ones((4, 9)))"
   ]
  }
 ],
 "metadata": {
  "kernelspec": {
   "display_name": "Python 3 (ipykernel)",
   "language": "python",
   "name": "python3"
  },
  "language_info": {
   "codemirror_mode": {
    "name": "ipython",
    "version": 3
   },
   "file_extension": ".py",
   "mimetype": "text/x-python",
   "name": "python",
   "nbconvert_exporter": "python",
   "pygments_lexer": "ipython3"
  }
 },
 "nbformat": 4,
 "nbformat_minor": 5
}
