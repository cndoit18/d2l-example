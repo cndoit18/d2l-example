{
 "cells": [
  {
   "cell_type": "code",
   "execution_count": null,
   "id": "ee36a38f-b9d5-4ab4-a961-bad27ed00234",
   "metadata": {},
   "outputs": [],
   "source": [
    "import torch"
   ]
  },
  {
   "cell_type": "code",
   "execution_count": null,
   "id": "14ed58cd-8aba-4bc2-a5f6-d05c5e92155c",
   "metadata": {},
   "outputs": [],
   "source": [
    "x = torch.arange(12)\n",
    "x"
   ]
  },
  {
   "cell_type": "code",
   "execution_count": null,
   "id": "6557977e-58c3-4c73-a92b-2196907ca23b",
   "metadata": {},
   "outputs": [],
   "source": [
    "x.shape"
   ]
  },
  {
   "cell_type": "code",
   "execution_count": null,
   "id": "e2dda582-d87b-431d-916a-2b4ec75b6624",
   "metadata": {},
   "outputs": [],
   "source": [
    "x.numel()"
   ]
  },
  {
   "cell_type": "code",
   "execution_count": null,
   "id": "cc12d5f5-3ce1-4a4f-94a9-f03db832727f",
   "metadata": {},
   "outputs": [],
   "source": [
    "x.reshape(3, 4).numel()"
   ]
  },
  {
   "cell_type": "code",
   "execution_count": null,
   "id": "84433ecf-6e23-4086-bd2c-82d5a826f6f6",
   "metadata": {},
   "outputs": [],
   "source": [
    "x.reshape(3, 4).shape"
   ]
  },
  {
   "cell_type": "code",
   "execution_count": null,
   "id": "7b672845-dab5-4ff4-ac7d-ed8290100fe8",
   "metadata": {},
   "outputs": [],
   "source": [
    "torch.zeros((2, 3, 4))"
   ]
  },
  {
   "cell_type": "code",
   "execution_count": null,
   "id": "9c2384df-42fd-4f19-a15d-43479c19b396",
   "metadata": {},
   "outputs": [],
   "source": [
    "torch.ones((2, 3, 4))"
   ]
  },
  {
   "cell_type": "code",
   "execution_count": null,
   "id": "0b8ab3be-4384-4bd0-89ff-76546c465e7e",
   "metadata": {},
   "outputs": [],
   "source": [
    "torch.randn(3, 4)"
   ]
  },
  {
   "cell_type": "code",
   "execution_count": null,
   "id": "f13e5471-3a66-4da0-8aea-64b2487b5d3c",
   "metadata": {},
   "outputs": [],
   "source": [
    "torch.tensor([[2, 1, 4, 3], [1, 2, 3, 4], [4, 3, 2, 1]])"
   ]
  }
 ],
 "metadata": {
  "kernelspec": {
   "display_name": "Python 3 (ipykernel)",
   "language": "python",
   "name": "python3"
  },
  "language_info": {
   "codemirror_mode": {
    "name": "ipython",
    "version": 3
   },
   "file_extension": ".py",
   "mimetype": "text/x-python",
   "name": "python",
   "nbconvert_exporter": "python",
   "pygments_lexer": "ipython3"
  }
 },
 "nbformat": 4,
 "nbformat_minor": 5
}
